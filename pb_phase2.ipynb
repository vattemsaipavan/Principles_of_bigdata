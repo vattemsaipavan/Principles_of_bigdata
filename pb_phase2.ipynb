{
 "cells": [
  {
   "cell_type": "raw",
   "metadata": {},
   "source": [
    "Install the findspark using the pip install findspark before start"
   ]
  },
  {
   "cell_type": "code",
   "execution_count": 1,
   "metadata": {},
   "outputs": [],
   "source": [
    "# pip install findspark"
   ]
  },
  {
   "cell_type": "raw",
   "metadata": {},
   "source": [
    "Initalize some libraries like pandas, seaborn and matplot lib is for plotting and visualization "
   ]
  },
  {
   "cell_type": "code",
   "execution_count": 2,
   "metadata": {},
   "outputs": [
    {
     "name": "stdout",
     "output_type": "stream",
     "text": [
      "sns 0.10.0\n"
     ]
    }
   ],
   "source": [
    "import seaborn as sns\n",
    "print('sns',sns.__version__)"
   ]
  },
  {
   "cell_type": "code",
   "execution_count": 3,
   "metadata": {},
   "outputs": [],
   "source": [
    "import findspark\n",
    "findspark.init()"
   ]
  },
  {
   "cell_type": "code",
   "execution_count": 4,
   "metadata": {},
   "outputs": [],
   "source": [
    "from pyspark.sql import SparkSession"
   ]
  },
  {
   "cell_type": "code",
   "execution_count": 14,
   "metadata": {},
   "outputs": [],
   "source": [
    "import matplotlib.pyplot as plt\n",
    "import pandas"
   ]
  },
  {
   "cell_type": "raw",
   "metadata": {},
   "source": [
    "Creating a Spark Session"
   ]
  },
  {
   "cell_type": "code",
   "execution_count": 5,
   "metadata": {},
   "outputs": [],
   "source": [
    "spark = SparkSession.builder.appName(\"Demo example of plot\").getOrCreate()\n",
    "sc = spark.sparkContext"
   ]
  },
  {
   "cell_type": "markdown",
   "metadata": {},
   "source": [
    "Reading the football_data.json file and creating a new temporary view using a SparkDataFrame"
   ]
  },
  {
   "cell_type": "code",
   "execution_count": 6,
   "metadata": {},
   "outputs": [],
   "source": [
    "df = spark.read.json(r\"F:\\Twitter\\account_and_user\\tweets\\football_data.json\")\n",
    "df.createOrReplaceTempView(\"tweet_table\")"
   ]
  },
  {
   "cell_type": "raw",
   "metadata": {},
   "source": [
    "Executing a query and retrive the information regarding Tweet count from different countries"
   ]
  },
  {
   "cell_type": "code",
   "execution_count": 74,
   "metadata": {},
   "outputs": [],
   "source": [
    "query1 = spark.sql(\"select place.country,count(*) As Count from tweet_table where place.country is not null GROUP BY place.country ORDER BY count \"\n",
    "                  \"DESC limit 10\")"
   ]
  },
  {
   "cell_type": "code",
   "execution_count": 75,
   "metadata": {
    "scrolled": true
   },
   "outputs": [],
   "source": [
    "pd_query1 = query1.toPandas()"
   ]
  },
  {
   "cell_type": "code",
   "execution_count": 78,
   "metadata": {},
   "outputs": [
    {
     "data": {
      "text/html": [
       "<div>\n",
       "<style scoped>\n",
       "    .dataframe tbody tr th:only-of-type {\n",
       "        vertical-align: middle;\n",
       "    }\n",
       "\n",
       "    .dataframe tbody tr th {\n",
       "        vertical-align: top;\n",
       "    }\n",
       "\n",
       "    .dataframe thead th {\n",
       "        text-align: right;\n",
       "    }\n",
       "</style>\n",
       "<table border=\"1\" class=\"dataframe\">\n",
       "  <thead>\n",
       "    <tr style=\"text-align: right;\">\n",
       "      <th></th>\n",
       "      <th>country</th>\n",
       "      <th>Count</th>\n",
       "    </tr>\n",
       "  </thead>\n",
       "  <tbody>\n",
       "    <tr>\n",
       "      <th>0</th>\n",
       "      <td>United States</td>\n",
       "      <td>3056</td>\n",
       "    </tr>\n",
       "    <tr>\n",
       "      <th>1</th>\n",
       "      <td>United Kingdom</td>\n",
       "      <td>974</td>\n",
       "    </tr>\n",
       "    <tr>\n",
       "      <th>2</th>\n",
       "      <td>Brasil</td>\n",
       "      <td>643</td>\n",
       "    </tr>\n",
       "    <tr>\n",
       "      <th>3</th>\n",
       "      <td>México</td>\n",
       "      <td>476</td>\n",
       "    </tr>\n",
       "    <tr>\n",
       "      <th>4</th>\n",
       "      <td>Nigeria</td>\n",
       "      <td>283</td>\n",
       "    </tr>\n",
       "    <tr>\n",
       "      <th>5</th>\n",
       "      <td>España</td>\n",
       "      <td>267</td>\n",
       "    </tr>\n",
       "    <tr>\n",
       "      <th>6</th>\n",
       "      <td>Argentina</td>\n",
       "      <td>263</td>\n",
       "    </tr>\n",
       "    <tr>\n",
       "      <th>7</th>\n",
       "      <td>Colombia</td>\n",
       "      <td>154</td>\n",
       "    </tr>\n",
       "    <tr>\n",
       "      <th>8</th>\n",
       "      <td>France</td>\n",
       "      <td>144</td>\n",
       "    </tr>\n",
       "    <tr>\n",
       "      <th>9</th>\n",
       "      <td>South Africa</td>\n",
       "      <td>140</td>\n",
       "    </tr>\n",
       "  </tbody>\n",
       "</table>\n",
       "</div>"
      ],
      "text/plain": [
       "          country  Count\n",
       "0   United States   3056\n",
       "1  United Kingdom    974\n",
       "2          Brasil    643\n",
       "3          México    476\n",
       "4         Nigeria    283\n",
       "5          España    267\n",
       "6       Argentina    263\n",
       "7        Colombia    154\n",
       "8          France    144\n",
       "9    South Africa    140"
      ]
     },
     "execution_count": 78,
     "metadata": {},
     "output_type": "execute_result"
    }
   ],
   "source": [
    "pd_query1"
   ]
  },
  {
   "cell_type": "code",
   "execution_count": 76,
   "metadata": {},
   "outputs": [
    {
     "data": {
      "text/plain": [
       "<matplotlib.axes._subplots.AxesSubplot at 0x1ea1e9580c8>"
      ]
     },
     "execution_count": 76,
     "metadata": {},
     "output_type": "execute_result"
    },
    {
     "data": {
      "image/png": "[encoded data removed]",
      "text/plain": [
       "<Figure size 360x720 with 1 Axes>"
      ]
     },
     "metadata": {},
     "output_type": "display_data"
    }
   ],
   "source": [
    "pd_query1.plot.pie(y='Count',labels=pd_query1.country.values.tolist(),figsize=(5,10),autopct='%.2f',title=\"Tweet count from different countries\")"
   ]
  },
  {
   "cell_type": "code",
   "execution_count": 14,
   "metadata": {},
   "outputs": [
    {
     "data": {
      "text/plain": [
       "<matplotlib.axes._subplots.AxesSubplot at 0x258ba06cd48>"
      ]
     },
     "execution_count": 14,
     "metadata": {},
     "output_type": "execute_result"
    },
    {
     "data": {
      "image/png": "[encoded data removed]",
      "text/plain": [
       "<Figure size 432x288 with 1 Axes>"
      ]
     },
     "metadata": {
      "needs_background": "light"
     },
     "output_type": "display_data"
    }
   ],
   "source": [
    "pd_query1.plot.bar(x=\"country\",y=\"Count\",title=\"Tweet count from different countries\")"
   ]
  },
  {
   "cell_type": "raw",
   "metadata": {},
   "source": [
    "Executing a query and retrive the information regarding top tweeted text and its retweet count"
   ]
  },
  {
   "cell_type": "code",
   "execution_count": 60,
   "metadata": {},
   "outputs": [],
   "source": [
    "query2 = spark.sql(\"select user.name,retweeted_status.text as Retweet_Text,retweeted_status.retweet_count as Retweet_Count from tweet_table where retweeted_status.retweet_count is not null order by retweeted_status.retweet_count desc limit 10\")"
   ]
  },
  {
   "cell_type": "code",
   "execution_count": 61,
   "metadata": {},
   "outputs": [],
   "source": [
    "pd_query2 = query2.toPandas()"
   ]
  },
  {
   "cell_type": "code",
   "execution_count": 79,
   "metadata": {},
   "outputs": [
    {
     "data": {
      "text/html": [
       "<div>\n",
       "<style scoped>\n",
       "    .dataframe tbody tr th:only-of-type {\n",
       "        vertical-align: middle;\n",
       "    }\n",
       "\n",
       "    .dataframe tbody tr th {\n",
       "        vertical-align: top;\n",
       "    }\n",
       "\n",
       "    .dataframe thead th {\n",
       "        text-align: right;\n",
       "    }\n",
       "</style>\n",
       "<table border=\"1\" class=\"dataframe\">\n",
       "  <thead>\n",
       "    <tr style=\"text-align: right;\">\n",
       "      <th></th>\n",
       "      <th>name</th>\n",
       "      <th>Retweet_Text</th>\n",
       "      <th>Retweet_Count</th>\n",
       "    </tr>\n",
       "  </thead>\n",
       "  <tbody>\n",
       "    <tr>\n",
       "      <th>0</th>\n",
       "      <td>ash</td>\n",
       "      <td>Our story. Our awards. Our songs. Our albums. ...</td>\n",
       "      <td>245540</td>\n",
       "    </tr>\n",
       "    <tr>\n",
       "      <th>1</th>\n",
       "      <td>Nat Nat🖤</td>\n",
       "      <td>So a month ago I dropped a ring &amp;amp; a clip d...</td>\n",
       "      <td>222756</td>\n",
       "    </tr>\n",
       "    <tr>\n",
       "      <th>2</th>\n",
       "      <td>Summer</td>\n",
       "      <td>So a month ago I dropped a ring &amp;amp; a clip d...</td>\n",
       "      <td>222754</td>\n",
       "    </tr>\n",
       "    <tr>\n",
       "      <th>3</th>\n",
       "      <td>Lucas Ferkol</td>\n",
       "      <td>If golf and soccer switched announcers... http...</td>\n",
       "      <td>219128</td>\n",
       "    </tr>\n",
       "    <tr>\n",
       "      <th>4</th>\n",
       "      <td>💜REBECA becky💜</td>\n",
       "      <td>[#오늘의방탄] 아미와 방탄.. 방탄과 아미... 우리 존재 자체가 사랑..💜 20...</td>\n",
       "      <td>183615</td>\n",
       "    </tr>\n",
       "    <tr>\n",
       "      <th>5</th>\n",
       "      <td>May 22nd</td>\n",
       "      <td>This son bought his dad a truck after his dad’...</td>\n",
       "      <td>173951</td>\n",
       "    </tr>\n",
       "    <tr>\n",
       "      <th>6</th>\n",
       "      <td>Adelaide</td>\n",
       "      <td>Brit Awards. Thank you to everyone who voted. ...</td>\n",
       "      <td>147956</td>\n",
       "    </tr>\n",
       "    <tr>\n",
       "      <th>7</th>\n",
       "      <td>Andrea loves Z</td>\n",
       "      <td>This kid is so cool. May Allah bless him. Dinn...</td>\n",
       "      <td>136926</td>\n",
       "    </tr>\n",
       "    <tr>\n",
       "      <th>8</th>\n",
       "      <td>Ruben</td>\n",
       "      <td>Si Mbappé ficha por el Real Madrid este verano...</td>\n",
       "      <td>134065</td>\n",
       "    </tr>\n",
       "    <tr>\n",
       "      <th>9</th>\n",
       "      <td>💜BTSpopie⁷💜</td>\n",
       "      <td>thank you 💕 https://t.co/ESmo67cUek</td>\n",
       "      <td>108975</td>\n",
       "    </tr>\n",
       "  </tbody>\n",
       "</table>\n",
       "</div>"
      ],
      "text/plain": [
       "             name                                       Retweet_Text  \\\n",
       "0             ash  Our story. Our awards. Our songs. Our albums. ...   \n",
       "1        Nat Nat🖤  So a month ago I dropped a ring &amp; a clip d...   \n",
       "2          Summer  So a month ago I dropped a ring &amp; a clip d...   \n",
       "3    Lucas Ferkol  If golf and soccer switched announcers... http...   \n",
       "4  💜REBECA becky💜  [#오늘의방탄] 아미와 방탄.. 방탄과 아미... 우리 존재 자체가 사랑..💜 20...   \n",
       "5        May 22nd  This son bought his dad a truck after his dad’...   \n",
       "6        Adelaide  Brit Awards. Thank you to everyone who voted. ...   \n",
       "7  Andrea loves Z  This kid is so cool. May Allah bless him. Dinn...   \n",
       "8           Ruben  Si Mbappé ficha por el Real Madrid este verano...   \n",
       "9     💜BTSpopie⁷💜                thank you 💕 https://t.co/ESmo67cUek   \n",
       "\n",
       "   Retweet_Count  \n",
       "0         245540  \n",
       "1         222756  \n",
       "2         222754  \n",
       "3         219128  \n",
       "4         183615  \n",
       "5         173951  \n",
       "6         147956  \n",
       "7         136926  \n",
       "8         134065  \n",
       "9         108975  "
      ]
     },
     "execution_count": 79,
     "metadata": {},
     "output_type": "execute_result"
    }
   ],
   "source": [
    "pd_query2"
   ]
  },
  {
   "cell_type": "code",
   "execution_count": 73,
   "metadata": {},
   "outputs": [
    {
     "data": {
      "text/plain": [
       "<matplotlib.axes._subplots.AxesSubplot at 0x1ea1e8fd148>"
      ]
     },
     "execution_count": 73,
     "metadata": {},
     "output_type": "execute_result"
    },
    {
     "data": {
      "image/png": "[encoded data removed]",
      "text/plain": [
       "<Figure size 432x288 with 1 Axes>"
      ]
     },
     "metadata": {
      "needs_background": "light"
     },
     "output_type": "display_data"
    }
   ],
   "source": [
    "# pd_query2.plot.bar(x=\"name\",y=\"Retweet_Count\",title=\"User with more tweets for his tweets\")\n",
    "pd_query2.plot(title=\"top tweeted text and its retweet count\")"
   ]
  },
  {
   "cell_type": "raw",
   "metadata": {},
   "source": [
    "Executing a query and retrive the information regarding Tweets based on the different location in USA"
   ]
  },
  {
   "cell_type": "code",
   "execution_count": 52,
   "metadata": {},
   "outputs": [],
   "source": [
    "query3 = spark.sql(\"select user.location,count(text) as tweet_count from tweet_table where place.country='United States'and \"\n",
    "                   \"user.location is not null Group By user.location ORDER BY tweet_count DESC LIMIT 15\")"
   ]
  },
  {
   "cell_type": "code",
   "execution_count": 53,
   "metadata": {},
   "outputs": [],
   "source": [
    "pd_query3 = query3.toPandas()"
   ]
  },
  {
   "cell_type": "code",
   "execution_count": 80,
   "metadata": {},
   "outputs": [
    {
     "data": {
      "text/html": [
       "<div>\n",
       "<style scoped>\n",
       "    .dataframe tbody tr th:only-of-type {\n",
       "        vertical-align: middle;\n",
       "    }\n",
       "\n",
       "    .dataframe tbody tr th {\n",
       "        vertical-align: top;\n",
       "    }\n",
       "\n",
       "    .dataframe thead th {\n",
       "        text-align: right;\n",
       "    }\n",
       "</style>\n",
       "<table border=\"1\" class=\"dataframe\">\n",
       "  <thead>\n",
       "    <tr style=\"text-align: right;\">\n",
       "      <th></th>\n",
       "      <th>location</th>\n",
       "      <th>tweet_count</th>\n",
       "    </tr>\n",
       "  </thead>\n",
       "  <tbody>\n",
       "    <tr>\n",
       "      <th>0</th>\n",
       "      <td>Houston, TX</td>\n",
       "      <td>40</td>\n",
       "    </tr>\n",
       "    <tr>\n",
       "      <th>1</th>\n",
       "      <td>Chicago, IL</td>\n",
       "      <td>40</td>\n",
       "    </tr>\n",
       "    <tr>\n",
       "      <th>2</th>\n",
       "      <td>Los Angeles, CA</td>\n",
       "      <td>37</td>\n",
       "    </tr>\n",
       "    <tr>\n",
       "      <th>3</th>\n",
       "      <td>Atlanta, GA</td>\n",
       "      <td>29</td>\n",
       "    </tr>\n",
       "    <tr>\n",
       "      <th>4</th>\n",
       "      <td>United States</td>\n",
       "      <td>26</td>\n",
       "    </tr>\n",
       "    <tr>\n",
       "      <th>5</th>\n",
       "      <td>Dallas, TX</td>\n",
       "      <td>24</td>\n",
       "    </tr>\n",
       "    <tr>\n",
       "      <th>6</th>\n",
       "      <td>San Antonio, TX</td>\n",
       "      <td>21</td>\n",
       "    </tr>\n",
       "    <tr>\n",
       "      <th>7</th>\n",
       "      <td>Philadelphia, PA</td>\n",
       "      <td>21</td>\n",
       "    </tr>\n",
       "    <tr>\n",
       "      <th>8</th>\n",
       "      <td>Florida, USA</td>\n",
       "      <td>20</td>\n",
       "    </tr>\n",
       "    <tr>\n",
       "      <th>9</th>\n",
       "      <td>Austin, TX</td>\n",
       "      <td>20</td>\n",
       "    </tr>\n",
       "    <tr>\n",
       "      <th>10</th>\n",
       "      <td>New York, NY</td>\n",
       "      <td>19</td>\n",
       "    </tr>\n",
       "    <tr>\n",
       "      <th>11</th>\n",
       "      <td>Columbus, OH</td>\n",
       "      <td>19</td>\n",
       "    </tr>\n",
       "    <tr>\n",
       "      <th>12</th>\n",
       "      <td>Nashville, TN</td>\n",
       "      <td>19</td>\n",
       "    </tr>\n",
       "    <tr>\n",
       "      <th>13</th>\n",
       "      <td>California, USA</td>\n",
       "      <td>18</td>\n",
       "    </tr>\n",
       "    <tr>\n",
       "      <th>14</th>\n",
       "      <td>Miami, FL</td>\n",
       "      <td>17</td>\n",
       "    </tr>\n",
       "  </tbody>\n",
       "</table>\n",
       "</div>"
      ],
      "text/plain": [
       "            location  tweet_count\n",
       "0        Houston, TX           40\n",
       "1        Chicago, IL           40\n",
       "2    Los Angeles, CA           37\n",
       "3        Atlanta, GA           29\n",
       "4      United States           26\n",
       "5         Dallas, TX           24\n",
       "6    San Antonio, TX           21\n",
       "7   Philadelphia, PA           21\n",
       "8       Florida, USA           20\n",
       "9         Austin, TX           20\n",
       "10      New York, NY           19\n",
       "11      Columbus, OH           19\n",
       "12     Nashville, TN           19\n",
       "13   California, USA           18\n",
       "14         Miami, FL           17"
      ]
     },
     "execution_count": 80,
     "metadata": {},
     "output_type": "execute_result"
    }
   ],
   "source": [
    "pd_query3"
   ]
  },
  {
   "cell_type": "code",
   "execution_count": 58,
   "metadata": {},
   "outputs": [
    {
     "data": {
      "text/plain": [
       "<matplotlib.axes._subplots.AxesSubplot at 0x1ea1d0416c8>"
      ]
     },
     "execution_count": 58,
     "metadata": {},
     "output_type": "execute_result"
    },
    {
     "data": {
      "image/png": "[encoded data removed]",
      "text/plain": [
       "<Figure size 792x360 with 1 Axes>"
      ]
     },
     "metadata": {
      "needs_background": "light"
     },
     "output_type": "display_data"
    }
   ],
   "source": [
    "# pd_query3\n",
    "# pd.country.values.tolist(\n",
    "pd_query3\n",
    "pd_query3.plot.area(x = \"location\",y=\"tweet_count\",title=\"Tweets based on the different location in USA\",figsize=(11,5))\n",
    "# pd_query3.plot(kind='pie',y ='tweet_count',labels=pd_query3.location.values.tolist())\n",
    "# pd_query3.plot.pie(y='count',labels=pd_query3.location.values.tolist(),figsize=(5,10))"
   ]
  },
  {
   "cell_type": "raw",
   "metadata": {},
   "source": [
    "Executing a query and retrive the information regarding Users with more no of retweets for his tweet"
   ]
  },
  {
   "cell_type": "code",
   "execution_count": 45,
   "metadata": {},
   "outputs": [],
   "source": [
    "query4 = spark.sql(\"select user.screen_name,text,retweeted_status.retweet_count from tweet_table order by retweeted_status.retweet_count DESC limit 20\")"
   ]
  },
  {
   "cell_type": "code",
   "execution_count": 46,
   "metadata": {},
   "outputs": [],
   "source": [
    "pd_query4 = query4.toPandas()"
   ]
  },
  {
   "cell_type": "code",
   "execution_count": 81,
   "metadata": {},
   "outputs": [
    {
     "data": {
      "text/html": [
       "<div>\n",
       "<style scoped>\n",
       "    .dataframe tbody tr th:only-of-type {\n",
       "        vertical-align: middle;\n",
       "    }\n",
       "\n",
       "    .dataframe tbody tr th {\n",
       "        vertical-align: top;\n",
       "    }\n",
       "\n",
       "    .dataframe thead th {\n",
       "        text-align: right;\n",
       "    }\n",
       "</style>\n",
       "<table border=\"1\" class=\"dataframe\">\n",
       "  <thead>\n",
       "    <tr style=\"text-align: right;\">\n",
       "      <th></th>\n",
       "      <th>screen_name</th>\n",
       "      <th>text</th>\n",
       "      <th>retweet_count</th>\n",
       "    </tr>\n",
       "  </thead>\n",
       "  <tbody>\n",
       "    <tr>\n",
       "      <th>0</th>\n",
       "      <td>ashtesolim</td>\n",
       "      <td>RT @justinbieber: Our story. Our awards. Our s...</td>\n",
       "      <td>245540</td>\n",
       "    </tr>\n",
       "    <tr>\n",
       "      <th>1</th>\n",
       "      <td>The_Names_Tally</td>\n",
       "      <td>RT @ginaawilsonn: So a month ago I dropped a r...</td>\n",
       "      <td>222756</td>\n",
       "    </tr>\n",
       "    <tr>\n",
       "      <th>2</th>\n",
       "      <td>smessercola__</td>\n",
       "      <td>RT @ginaawilsonn: So a month ago I dropped a r...</td>\n",
       "      <td>222754</td>\n",
       "    </tr>\n",
       "    <tr>\n",
       "      <th>3</th>\n",
       "      <td>lucas_ferkol</td>\n",
       "      <td>RT @johnbcrist: If golf and soccer switched an...</td>\n",
       "      <td>219128</td>\n",
       "    </tr>\n",
       "    <tr>\n",
       "      <th>4</th>\n",
       "      <td>Rbkmj27Becky</td>\n",
       "      <td>RT @bts_bighit: [#오늘의방탄] 아미와 방탄.. 방탄과 아미... 우리...</td>\n",
       "      <td>183615</td>\n",
       "    </tr>\n",
       "    <tr>\n",
       "      <th>5</th>\n",
       "      <td>Dee_H3rbo</td>\n",
       "      <td>RT @Charles43631438: This son bought his dad a...</td>\n",
       "      <td>173951</td>\n",
       "    </tr>\n",
       "    <tr>\n",
       "      <th>6</th>\n",
       "      <td>Adelaide_RoseX</td>\n",
       "      <td>RT @Harry_Styles: Brit Awards. Thank you to ev...</td>\n",
       "      <td>147956</td>\n",
       "    </tr>\n",
       "    <tr>\n",
       "      <th>7</th>\n",
       "      <td>zaddyxgirl</td>\n",
       "      <td>RT @iamsrk: This kid is so cool. May Allah ble...</td>\n",
       "      <td>136926</td>\n",
       "    </tr>\n",
       "    <tr>\n",
       "      <th>8</th>\n",
       "      <td>Neburr12</td>\n",
       "      <td>RT @DjMaRiiO_90: Si Mbappé ficha por el Real M...</td>\n",
       "      <td>134065</td>\n",
       "    </tr>\n",
       "    <tr>\n",
       "      <th>9</th>\n",
       "      <td>huda_BTS7kings</td>\n",
       "      <td>RT @BTS_twt: thank you 💕 https://t.co/ESmo67cUek</td>\n",
       "      <td>108975</td>\n",
       "    </tr>\n",
       "    <tr>\n",
       "      <th>10</th>\n",
       "      <td>0xY0DBLfiWnimff</td>\n",
       "      <td>RT @Cristiano: So sad to hear the heartbreakin...</td>\n",
       "      <td>108795</td>\n",
       "    </tr>\n",
       "    <tr>\n",
       "      <th>11</th>\n",
       "      <td>Ismaeal_babah</td>\n",
       "      <td>RT @Cristiano: So sad to hear the heartbreakin...</td>\n",
       "      <td>108788</td>\n",
       "    </tr>\n",
       "    <tr>\n",
       "      <th>12</th>\n",
       "      <td>sun_ny_cr7</td>\n",
       "      <td>RT @Cristiano: So sad to hear the heartbreakin...</td>\n",
       "      <td>108787</td>\n",
       "    </tr>\n",
       "    <tr>\n",
       "      <th>13</th>\n",
       "      <td>suchiimi</td>\n",
       "      <td>RT @MillennialOfMNL: since parasite won 4 awar...</td>\n",
       "      <td>92371</td>\n",
       "    </tr>\n",
       "    <tr>\n",
       "      <th>14</th>\n",
       "      <td>JIMlNICAN</td>\n",
       "      <td>RT @MillennialOfMNL: since parasite won 4 awar...</td>\n",
       "      <td>92363</td>\n",
       "    </tr>\n",
       "    <tr>\n",
       "      <th>15</th>\n",
       "      <td>JuchuJuchu</td>\n",
       "      <td>RT @MillennialOfMNL: since parasite won 4 awar...</td>\n",
       "      <td>92362</td>\n",
       "    </tr>\n",
       "    <tr>\n",
       "      <th>16</th>\n",
       "      <td>alicesucky19</td>\n",
       "      <td>RT @MillennialOfMNL: since parasite won 4 awar...</td>\n",
       "      <td>92361</td>\n",
       "    </tr>\n",
       "    <tr>\n",
       "      <th>17</th>\n",
       "      <td>AccioGood</td>\n",
       "      <td>RT @MillennialOfMNL: since parasite won 4 awar...</td>\n",
       "      <td>92340</td>\n",
       "    </tr>\n",
       "    <tr>\n",
       "      <th>18</th>\n",
       "      <td>care_myers</td>\n",
       "      <td>RT @Denlesks: No idea who that cop is but if a...</td>\n",
       "      <td>89374</td>\n",
       "    </tr>\n",
       "    <tr>\n",
       "      <th>19</th>\n",
       "      <td>ElizabethJo1986</td>\n",
       "      <td>RT @Denlesks: No idea who that cop is but if a...</td>\n",
       "      <td>89371</td>\n",
       "    </tr>\n",
       "  </tbody>\n",
       "</table>\n",
       "</div>"
      ],
      "text/plain": [
       "        screen_name                                               text  \\\n",
       "0        ashtesolim  RT @justinbieber: Our story. Our awards. Our s...   \n",
       "1   The_Names_Tally  RT @ginaawilsonn: So a month ago I dropped a r...   \n",
       "2     smessercola__  RT @ginaawilsonn: So a month ago I dropped a r...   \n",
       "3      lucas_ferkol  RT @johnbcrist: If golf and soccer switched an...   \n",
       "4      Rbkmj27Becky  RT @bts_bighit: [#오늘의방탄] 아미와 방탄.. 방탄과 아미... 우리...   \n",
       "5         Dee_H3rbo  RT @Charles43631438: This son bought his dad a...   \n",
       "6    Adelaide_RoseX  RT @Harry_Styles: Brit Awards. Thank you to ev...   \n",
       "7        zaddyxgirl  RT @iamsrk: This kid is so cool. May Allah ble...   \n",
       "8          Neburr12  RT @DjMaRiiO_90: Si Mbappé ficha por el Real M...   \n",
       "9    huda_BTS7kings   RT @BTS_twt: thank you 💕 https://t.co/ESmo67cUek   \n",
       "10  0xY0DBLfiWnimff  RT @Cristiano: So sad to hear the heartbreakin...   \n",
       "11    Ismaeal_babah  RT @Cristiano: So sad to hear the heartbreakin...   \n",
       "12       sun_ny_cr7  RT @Cristiano: So sad to hear the heartbreakin...   \n",
       "13         suchiimi  RT @MillennialOfMNL: since parasite won 4 awar...   \n",
       "14        JIMlNICAN  RT @MillennialOfMNL: since parasite won 4 awar...   \n",
       "15       JuchuJuchu  RT @MillennialOfMNL: since parasite won 4 awar...   \n",
       "16     alicesucky19  RT @MillennialOfMNL: since parasite won 4 awar...   \n",
       "17        AccioGood  RT @MillennialOfMNL: since parasite won 4 awar...   \n",
       "18       care_myers  RT @Denlesks: No idea who that cop is but if a...   \n",
       "19  ElizabethJo1986  RT @Denlesks: No idea who that cop is but if a...   \n",
       "\n",
       "    retweet_count  \n",
       "0          245540  \n",
       "1          222756  \n",
       "2          222754  \n",
       "3          219128  \n",
       "4          183615  \n",
       "5          173951  \n",
       "6          147956  \n",
       "7          136926  \n",
       "8          134065  \n",
       "9          108975  \n",
       "10         108795  \n",
       "11         108788  \n",
       "12         108787  \n",
       "13          92371  \n",
       "14          92363  \n",
       "15          92362  \n",
       "16          92361  \n",
       "17          92340  \n",
       "18          89374  \n",
       "19          89371  "
      ]
     },
     "execution_count": 81,
     "metadata": {},
     "output_type": "execute_result"
    }
   ],
   "source": [
    "pd_query4"
   ]
  },
  {
   "cell_type": "code",
   "execution_count": 51,
   "metadata": {},
   "outputs": [
    {
     "data": {
      "text/plain": [
       "Text(0.5, 1.0, 'Users with more no of retweets for his tweet')"
      ]
     },
     "execution_count": 51,
     "metadata": {},
     "output_type": "execute_result"
    },
    {
     "data": {
      "image/png": "[encoded data removed]",
      "text/plain": [
       "<Figure size 720x720 with 1 Axes>"
      ]
     },
     "metadata": {
      "needs_background": "light"
     },
     "output_type": "display_data"
    }
   ],
   "source": [
    "# sns.catplot(x=\"retweet_count\",y=\"text\",data=pd_query4)\n",
    "# pd_query4.plot.hist(stacked=True, bins=20,alpha=0.5)\n",
    "# pd_query4.plot.box(pd_query4.screen_name.tolist())\n",
    "pd_query4.plot.scatter(x=\"retweet_count\",y='screen_name',color='DarkBlue', s=50,figsize=(10,10))\n",
    "plt.title(\"Users with more no of retweets for his tweet\")\n",
    "# pd_query4.plot.bar(x=\"screen_name\",y=\"retweet_count\",title=\"User with more tweets for his tweets\")\n",
    "# radviz(pd_query4,'retweet_count')"
   ]
  },
  {
   "cell_type": "raw",
   "metadata": {},
   "source": [
    "Executing a query and retrive the information regarding Tweets based on the different league matches"
   ]
  },
  {
   "cell_type": "code",
   "execution_count": 32,
   "metadata": {},
   "outputs": [],
   "source": [
    "query5 = spark.sql(\"select count(*) as count,q.text from (select case when text like '%fcb%' then 'fc barcelona' when \"\n",
    "                  \" text like '%real madrid%' then 'real madrid' when text like '%fifa%' then 'fifa' when text\"\n",
    "                  \" like '%la liga%' then 'la liga' when text like '%nfl%' then 'nfl' when text like '%arsenal%' \"\n",
    "                  \" then 'arsenal' when text like '%chelsea%' then 'chelsea fc' when text like '%manchester%' \"\n",
    "                  \" then 'manchester' when text like '%psg%' then 'psg' when text like '%premier league%' then 'premier league'\"\n",
    "                  \" end as text from \"\n",
    "                  \" tweet_table)q group by q.text\")"
   ]
  },
  {
   "cell_type": "code",
   "execution_count": 33,
   "metadata": {},
   "outputs": [],
   "source": [
    "pd_query5 = query5.toPandas()"
   ]
  },
  {
   "cell_type": "code",
   "execution_count": 82,
   "metadata": {},
   "outputs": [
    {
     "data": {
      "text/html": [
       "<div>\n",
       "<style scoped>\n",
       "    .dataframe tbody tr th:only-of-type {\n",
       "        vertical-align: middle;\n",
       "    }\n",
       "\n",
       "    .dataframe tbody tr th {\n",
       "        vertical-align: top;\n",
       "    }\n",
       "\n",
       "    .dataframe thead th {\n",
       "        text-align: right;\n",
       "    }\n",
       "</style>\n",
       "<table border=\"1\" class=\"dataframe\">\n",
       "  <thead>\n",
       "    <tr style=\"text-align: right;\">\n",
       "      <th></th>\n",
       "      <th>count</th>\n",
       "      <th>text</th>\n",
       "    </tr>\n",
       "  </thead>\n",
       "  <tbody>\n",
       "    <tr>\n",
       "      <th>0</th>\n",
       "      <td>533598</td>\n",
       "      <td>None</td>\n",
       "    </tr>\n",
       "    <tr>\n",
       "      <th>1</th>\n",
       "      <td>289</td>\n",
       "      <td>arsenal</td>\n",
       "    </tr>\n",
       "    <tr>\n",
       "      <th>2</th>\n",
       "      <td>213</td>\n",
       "      <td>real madrid</td>\n",
       "    </tr>\n",
       "    <tr>\n",
       "      <th>3</th>\n",
       "      <td>4636</td>\n",
       "      <td>nfl</td>\n",
       "    </tr>\n",
       "    <tr>\n",
       "      <th>4</th>\n",
       "      <td>499</td>\n",
       "      <td>psg</td>\n",
       "    </tr>\n",
       "    <tr>\n",
       "      <th>5</th>\n",
       "      <td>75</td>\n",
       "      <td>chelsea fc</td>\n",
       "    </tr>\n",
       "    <tr>\n",
       "      <th>6</th>\n",
       "      <td>2676</td>\n",
       "      <td>la liga</td>\n",
       "    </tr>\n",
       "    <tr>\n",
       "      <th>7</th>\n",
       "      <td>17</td>\n",
       "      <td>manchester</td>\n",
       "    </tr>\n",
       "    <tr>\n",
       "      <th>8</th>\n",
       "      <td>83</td>\n",
       "      <td>premier league</td>\n",
       "    </tr>\n",
       "    <tr>\n",
       "      <th>9</th>\n",
       "      <td>536</td>\n",
       "      <td>fc barcelona</td>\n",
       "    </tr>\n",
       "    <tr>\n",
       "      <th>10</th>\n",
       "      <td>6513</td>\n",
       "      <td>fifa</td>\n",
       "    </tr>\n",
       "  </tbody>\n",
       "</table>\n",
       "</div>"
      ],
      "text/plain": [
       "     count            text\n",
       "0   533598            None\n",
       "1      289         arsenal\n",
       "2      213     real madrid\n",
       "3     4636             nfl\n",
       "4      499             psg\n",
       "5       75      chelsea fc\n",
       "6     2676         la liga\n",
       "7       17      manchester\n",
       "8       83  premier league\n",
       "9      536    fc barcelona\n",
       "10    6513            fifa"
      ]
     },
     "execution_count": 82,
     "metadata": {},
     "output_type": "execute_result"
    }
   ],
   "source": [
    "pd_query5"
   ]
  },
  {
   "cell_type": "code",
   "execution_count": 44,
   "metadata": {},
   "outputs": [
    {
     "data": {
      "text/plain": [
       "Text(0.5, 1, 'Tweets based on the different league matches')"
      ]
     },
     "execution_count": 44,
     "metadata": {},
     "output_type": "execute_result"
    },
    {
     "data": {
      "image/png": "[encoded data removed]",
      "text/plain": [
       "<Figure size 864x288 with 1 Axes>"
      ]
     },
     "metadata": {
      "needs_background": "light"
     },
     "output_type": "display_data"
    }
   ],
   "source": [
    "pd_query5\n",
    "sns.catplot(x=\"text\", y=\"count\",kind=\"swarm\", data=pd_query5.dropna(),height=4,aspect=3)\n",
    "plt.title(\"Tweets based on the different league matches\")"
   ]
  },
  {
   "cell_type": "raw",
   "metadata": {},
   "source": [
    "Executing a query and retrive the information regarding User with more no of followers"
   ]
  },
  {
   "cell_type": "code",
   "execution_count": 23,
   "metadata": {},
   "outputs": [],
   "source": [
    "query6 = spark.sql(\"select user.screen_name, max(user.followers_count)as followers_count from tweet_table where text \"\n",
    "                  \" like '%football%' group by user.screen_name, user.lang order by followers_count desc limit 15\")"
   ]
  },
  {
   "cell_type": "code",
   "execution_count": 24,
   "metadata": {},
   "outputs": [],
   "source": [
    "pd_query6 = query6.toPandas()"
   ]
  },
  {
   "cell_type": "code",
   "execution_count": 83,
   "metadata": {},
   "outputs": [
    {
     "data": {
      "text/html": [
       "<div>\n",
       "<style scoped>\n",
       "    .dataframe tbody tr th:only-of-type {\n",
       "        vertical-align: middle;\n",
       "    }\n",
       "\n",
       "    .dataframe tbody tr th {\n",
       "        vertical-align: top;\n",
       "    }\n",
       "\n",
       "    .dataframe thead th {\n",
       "        text-align: right;\n",
       "    }\n",
       "</style>\n",
       "<table border=\"1\" class=\"dataframe\">\n",
       "  <thead>\n",
       "    <tr style=\"text-align: right;\">\n",
       "      <th></th>\n",
       "      <th>screen_name</th>\n",
       "      <th>followers_count</th>\n",
       "    </tr>\n",
       "  </thead>\n",
       "  <tbody>\n",
       "    <tr>\n",
       "      <th>0</th>\n",
       "      <td>NFL</td>\n",
       "      <td>25264898</td>\n",
       "    </tr>\n",
       "    <tr>\n",
       "      <th>1</th>\n",
       "      <td>TheEconomist</td>\n",
       "      <td>24595917</td>\n",
       "    </tr>\n",
       "    <tr>\n",
       "      <th>2</th>\n",
       "      <td>ManUtd</td>\n",
       "      <td>21682621</td>\n",
       "    </tr>\n",
       "    <tr>\n",
       "      <th>3</th>\n",
       "      <td>guardian</td>\n",
       "      <td>8639812</td>\n",
       "    </tr>\n",
       "    <tr>\n",
       "      <th>4</th>\n",
       "      <td>BBCSport</td>\n",
       "      <td>8375940</td>\n",
       "    </tr>\n",
       "    <tr>\n",
       "      <th>5</th>\n",
       "      <td>lequipe</td>\n",
       "      <td>5151027</td>\n",
       "    </tr>\n",
       "    <tr>\n",
       "      <th>6</th>\n",
       "      <td>Patriots</td>\n",
       "      <td>4603729</td>\n",
       "    </tr>\n",
       "    <tr>\n",
       "      <th>7</th>\n",
       "      <td>USATODAY</td>\n",
       "      <td>4061642</td>\n",
       "    </tr>\n",
       "    <tr>\n",
       "      <th>8</th>\n",
       "      <td>THR</td>\n",
       "      <td>3223404</td>\n",
       "    </tr>\n",
       "    <tr>\n",
       "      <th>9</th>\n",
       "      <td>guardiannews</td>\n",
       "      <td>3138150</td>\n",
       "    </tr>\n",
       "    <tr>\n",
       "      <th>10</th>\n",
       "      <td>BBCMOTD</td>\n",
       "      <td>2917306</td>\n",
       "    </tr>\n",
       "    <tr>\n",
       "      <th>11</th>\n",
       "      <td>RealPaigeWWE</td>\n",
       "      <td>2556725</td>\n",
       "    </tr>\n",
       "    <tr>\n",
       "      <th>12</th>\n",
       "      <td>SkySport</td>\n",
       "      <td>2459605</td>\n",
       "    </tr>\n",
       "    <tr>\n",
       "      <th>13</th>\n",
       "      <td>chrislhayes</td>\n",
       "      <td>2103570</td>\n",
       "    </tr>\n",
       "    <tr>\n",
       "      <th>14</th>\n",
       "      <td>notthefakeSVP</td>\n",
       "      <td>2037971</td>\n",
       "    </tr>\n",
       "  </tbody>\n",
       "</table>\n",
       "</div>"
      ],
      "text/plain": [
       "      screen_name  followers_count\n",
       "0             NFL         25264898\n",
       "1    TheEconomist         24595917\n",
       "2          ManUtd         21682621\n",
       "3        guardian          8639812\n",
       "4        BBCSport          8375940\n",
       "5         lequipe          5151027\n",
       "6        Patriots          4603729\n",
       "7        USATODAY          4061642\n",
       "8             THR          3223404\n",
       "9    guardiannews          3138150\n",
       "10        BBCMOTD          2917306\n",
       "11   RealPaigeWWE          2556725\n",
       "12       SkySport          2459605\n",
       "13    chrislhayes          2103570\n",
       "14  notthefakeSVP          2037971"
      ]
     },
     "execution_count": 83,
     "metadata": {},
     "output_type": "execute_result"
    }
   ],
   "source": [
    "pd_query6"
   ]
  },
  {
   "cell_type": "code",
   "execution_count": 37,
   "metadata": {},
   "outputs": [
    {
     "data": {
      "text/plain": [
       "Text(0.5, 1, 'User with more no of followers')"
      ]
     },
     "execution_count": 37,
     "metadata": {},
     "output_type": "execute_result"
    },
    {
     "data": {
      "image/png": "[encoded data removed]",
      "text/plain": [
       "<Figure size 1080x360 with 1 Axes>"
      ]
     },
     "metadata": {
      "needs_background": "light"
     },
     "output_type": "display_data"
    }
   ],
   "source": [
    "sns.catplot(x=\"screen_name\",y=\"followers_count\", kind=\"violin\",data=pd_query6,height=5,aspect=3)\n",
    "plt.title(\"User with more no of followers\")"
   ]
  },
  {
   "cell_type": "raw",
   "metadata": {},
   "source": [
    "Executing a query and retrive the information regarding Tweets from different Sources"
   ]
  },
  {
   "cell_type": "code",
   "execution_count": 16,
   "metadata": {},
   "outputs": [],
   "source": [
    "query7 = spark.sql(\"select count(*) as NumberOfTweets, 'Android' as Source from tweet_table where source like '%Twitter for Android%' UNION select count() as NumberOfTweets, 'IPhone' as Source from tweet_table where source like '%Twitter for iPhone%' UNION select count() as NumberOfTweets, 'IPad' as Source from tweet_table where source like '%Twitter for iPad%' UNION select count() as NumberOfTweets, 'Web' as Source from tweet_table where source like '%Twitter Web App%'\")"
   ]
  },
  {
   "cell_type": "code",
   "execution_count": 17,
   "metadata": {},
   "outputs": [],
   "source": [
    "pd_query7 = query7.toPandas()"
   ]
  },
  {
   "cell_type": "code",
   "execution_count": 85,
   "metadata": {},
   "outputs": [
    {
     "data": {
      "text/html": [
       "<div>\n",
       "<style scoped>\n",
       "    .dataframe tbody tr th:only-of-type {\n",
       "        vertical-align: middle;\n",
       "    }\n",
       "\n",
       "    .dataframe tbody tr th {\n",
       "        vertical-align: top;\n",
       "    }\n",
       "\n",
       "    .dataframe thead th {\n",
       "        text-align: right;\n",
       "    }\n",
       "</style>\n",
       "<table border=\"1\" class=\"dataframe\">\n",
       "  <thead>\n",
       "    <tr style=\"text-align: right;\">\n",
       "      <th></th>\n",
       "      <th>NumberOfTweets</th>\n",
       "      <th>Source</th>\n",
       "    </tr>\n",
       "  </thead>\n",
       "  <tbody>\n",
       "    <tr>\n",
       "      <th>0</th>\n",
       "      <td>0</td>\n",
       "      <td>IPhone</td>\n",
       "    </tr>\n",
       "    <tr>\n",
       "      <th>1</th>\n",
       "      <td>220842</td>\n",
       "      <td>Android</td>\n",
       "    </tr>\n",
       "    <tr>\n",
       "      <th>2</th>\n",
       "      <td>0</td>\n",
       "      <td>Web</td>\n",
       "    </tr>\n",
       "    <tr>\n",
       "      <th>3</th>\n",
       "      <td>0</td>\n",
       "      <td>IPad</td>\n",
       "    </tr>\n",
       "  </tbody>\n",
       "</table>\n",
       "</div>"
      ],
      "text/plain": [
       "   NumberOfTweets   Source\n",
       "0               0   IPhone\n",
       "1          220842  Android\n",
       "2               0      Web\n",
       "3               0     IPad"
      ]
     },
     "execution_count": 85,
     "metadata": {},
     "output_type": "execute_result"
    }
   ],
   "source": [
    "pd_query7"
   ]
  },
  {
   "cell_type": "code",
   "execution_count": 22,
   "metadata": {},
   "outputs": [
    {
     "data": {
      "text/plain": [
       "<matplotlib.axes._subplots.AxesSubplot at 0x1ea18a95488>"
      ]
     },
     "execution_count": 22,
     "metadata": {},
     "output_type": "execute_result"
    },
    {
     "data": {
      "image/png": "[encoded data removed]",
      "text/plain": [
       "<Figure size 360x360 with 1 Axes>"
      ]
     },
     "metadata": {
      "needs_background": "light"
     },
     "output_type": "display_data"
    }
   ],
   "source": [
    "# sns.pairplot(y=\"NumberOfTweets\",x=\"Source\",data=pd_query5)\n",
    "pd_query7.plot.line(y=\"NumberOfTweets\",x=\"Source\",title=\"Tweets from different Sources\")"
   ]
  },
  {
   "cell_type": "raw",
   "metadata": {},
   "source": [
    "Executing a query and retrive the information regarding On which Day More Tweets are posted"
   ]
  },
  {
   "cell_type": "code",
   "execution_count": 7,
   "metadata": {},
   "outputs": [],
   "source": [
    "day_data = spark.sql(\"SELECT substring(user.created_at,1,3) as day from tweet_table where text is not null\")\n",
    "day_data.createOrReplaceTempView(\"day_data\")\n",
    "\n",
    "days_final = spark.sql(\n",
    "          \"\"\" SELECT Case\n",
    "            when day LIKE '%Mon%' then 'WEEKDAY'\n",
    "            when day LIKE '%Tue%' then 'WEEKDAY'\n",
    "            when day LIKE '%Wed%' then 'WEEKDAY'\n",
    "            when day LIKE '%Thu%' then 'WEEKDAY'\n",
    "            when day LIKE '%Fri%' then 'WEEKDAY'\n",
    "            when day LIKE '%Sat%' then 'WEEKEND'\n",
    "            when day LIKE '%Sun%' then 'WEEKEND'\n",
    "             else\n",
    "             null\n",
    "             end as day1 from day_data where day is not null\"\"\")\n",
    "days_final.createOrReplaceTempView(\"days_final\")\n",
    "query8 = spark.sql(\"SELECT day1 as Day,Count(*) as Day_Count from days_final where day1 is not null group by day1 order by count(*) desc\")"
   ]
  },
  {
   "cell_type": "code",
   "execution_count": 8,
   "metadata": {},
   "outputs": [],
   "source": [
    "pd_query8 = query8.toPandas()"
   ]
  },
  {
   "cell_type": "code",
   "execution_count": 84,
   "metadata": {},
   "outputs": [
    {
     "data": {
      "text/html": [
       "<div>\n",
       "<style scoped>\n",
       "    .dataframe tbody tr th:only-of-type {\n",
       "        vertical-align: middle;\n",
       "    }\n",
       "\n",
       "    .dataframe tbody tr th {\n",
       "        vertical-align: top;\n",
       "    }\n",
       "\n",
       "    .dataframe thead th {\n",
       "        text-align: right;\n",
       "    }\n",
       "</style>\n",
       "<table border=\"1\" class=\"dataframe\">\n",
       "  <thead>\n",
       "    <tr style=\"text-align: right;\">\n",
       "      <th></th>\n",
       "      <th>Day</th>\n",
       "      <th>Day_Count</th>\n",
       "    </tr>\n",
       "  </thead>\n",
       "  <tbody>\n",
       "    <tr>\n",
       "      <th>0</th>\n",
       "      <td>WEEKDAY</td>\n",
       "      <td>398728</td>\n",
       "    </tr>\n",
       "    <tr>\n",
       "      <th>1</th>\n",
       "      <td>WEEKEND</td>\n",
       "      <td>150403</td>\n",
       "    </tr>\n",
       "  </tbody>\n",
       "</table>\n",
       "</div>"
      ],
      "text/plain": [
       "       Day  Day_Count\n",
       "0  WEEKDAY     398728\n",
       "1  WEEKEND     150403"
      ]
     },
     "execution_count": 84,
     "metadata": {},
     "output_type": "execute_result"
    }
   ],
   "source": [
    "pd_query8"
   ]
  },
  {
   "cell_type": "code",
   "execution_count": 9,
   "metadata": {},
   "outputs": [
    {
     "data": {
      "text/plain": [
       "<matplotlib.axes._subplots.AxesSubplot at 0x1ea164857c8>"
      ]
     },
     "execution_count": 9,
     "metadata": {},
     "output_type": "execute_result"
    },
    {
     "data": {
      "image/png": "[encoded data removed]",
      "text/plain": [
       "<Figure size 432x288 with 1 Axes>"
      ]
     },
     "metadata": {},
     "output_type": "display_data"
    }
   ],
   "source": [
    "pd_query8.plot.pie(y=\"Day_Count\",labels=pd_query8.Day.tolist(),autopct='%.2f',title=\"On which Day More Tweets are posted\")"
   ]
  },
  {
   "cell_type": "raw",
   "metadata": {},
   "source": [
    "Executing a query and retrive the information regarding Tweet count based on language"
   ]
  },
  {
   "cell_type": "code",
   "execution_count": 11,
   "metadata": {},
   "outputs": [],
   "source": [
    "query9 = spark.sql(\"select count(*) as count,lang from tweet_table where text like '%la liga%' group by lang order by count desc\")"
   ]
  },
  {
   "cell_type": "code",
   "execution_count": 12,
   "metadata": {},
   "outputs": [],
   "source": [
    "pd_query9 = query9.toPandas()"
   ]
  },
  {
   "cell_type": "code",
   "execution_count": 86,
   "metadata": {},
   "outputs": [
    {
     "data": {
      "text/html": [
       "<div>\n",
       "<style scoped>\n",
       "    .dataframe tbody tr th:only-of-type {\n",
       "        vertical-align: middle;\n",
       "    }\n",
       "\n",
       "    .dataframe tbody tr th {\n",
       "        vertical-align: top;\n",
       "    }\n",
       "\n",
       "    .dataframe thead th {\n",
       "        text-align: right;\n",
       "    }\n",
       "</style>\n",
       "<table border=\"1\" class=\"dataframe\">\n",
       "  <thead>\n",
       "    <tr style=\"text-align: right;\">\n",
       "      <th></th>\n",
       "      <th>count</th>\n",
       "      <th>lang</th>\n",
       "    </tr>\n",
       "  </thead>\n",
       "  <tbody>\n",
       "    <tr>\n",
       "      <th>0</th>\n",
       "      <td>2653</td>\n",
       "      <td>es</td>\n",
       "    </tr>\n",
       "    <tr>\n",
       "      <th>1</th>\n",
       "      <td>58</td>\n",
       "      <td>en</td>\n",
       "    </tr>\n",
       "    <tr>\n",
       "      <th>2</th>\n",
       "      <td>19</td>\n",
       "      <td>ca</td>\n",
       "    </tr>\n",
       "    <tr>\n",
       "      <th>3</th>\n",
       "      <td>13</td>\n",
       "      <td>pt</td>\n",
       "    </tr>\n",
       "    <tr>\n",
       "      <th>4</th>\n",
       "      <td>6</td>\n",
       "      <td>fr</td>\n",
       "    </tr>\n",
       "    <tr>\n",
       "      <th>5</th>\n",
       "      <td>2</td>\n",
       "      <td>ro</td>\n",
       "    </tr>\n",
       "    <tr>\n",
       "      <th>6</th>\n",
       "      <td>1</td>\n",
       "      <td>und</td>\n",
       "    </tr>\n",
       "    <tr>\n",
       "      <th>7</th>\n",
       "      <td>1</td>\n",
       "      <td>tl</td>\n",
       "    </tr>\n",
       "    <tr>\n",
       "      <th>8</th>\n",
       "      <td>1</td>\n",
       "      <td>in</td>\n",
       "    </tr>\n",
       "    <tr>\n",
       "      <th>9</th>\n",
       "      <td>1</td>\n",
       "      <td>tr</td>\n",
       "    </tr>\n",
       "    <tr>\n",
       "      <th>10</th>\n",
       "      <td>1</td>\n",
       "      <td>de</td>\n",
       "    </tr>\n",
       "  </tbody>\n",
       "</table>\n",
       "</div>"
      ],
      "text/plain": [
       "    count lang\n",
       "0    2653   es\n",
       "1      58   en\n",
       "2      19   ca\n",
       "3      13   pt\n",
       "4       6   fr\n",
       "5       2   ro\n",
       "6       1  und\n",
       "7       1   tl\n",
       "8       1   in\n",
       "9       1   tr\n",
       "10      1   de"
      ]
     },
     "execution_count": 86,
     "metadata": {},
     "output_type": "execute_result"
    }
   ],
   "source": [
    "pd_query9"
   ]
  },
  {
   "cell_type": "code",
   "execution_count": 15,
   "metadata": {},
   "outputs": [
    {
     "data": {
      "text/plain": [
       "Text(0.5, 1, 'Tweet count based on language')"
      ]
     },
     "execution_count": 15,
     "metadata": {},
     "output_type": "execute_result"
    },
    {
     "data": {
      "image/png": "[encoded data removed]",
      "text/plain": [
       "<Figure size 360x360 with 1 Axes>"
      ]
     },
     "metadata": {
      "needs_background": "light"
     },
     "output_type": "display_data"
    }
   ],
   "source": [
    "# sns.lineplot( x =\"country\",y=\"Count\", data=pd)\n",
    "sns.catplot(x =\"lang\",y=\"count\",data=pd_query9)\n",
    "plt.title(\"Tweet count based on language\")\n",
    "# pd_query10\n",
    "# sns.catplot(x =\"hour\",y=\"tweets_count\", kind=\"violin\",style = \"smoker\" ,split=True,data=pd_query9)"
   ]
  },
  {
   "cell_type": "raw",
   "metadata": {},
   "source": [
    "Executing a query and retrive the information regarding Tweet count on hourly bases"
   ]
  },
  {
   "cell_type": "code",
   "execution_count": 19,
   "metadata": {},
   "outputs": [],
   "source": [
    "timehour = spark.sql(\"SELECT SUBSTRING(created_at,12,2) as hour from tweet_table where text is not null\")\n",
    "\n",
    "timehour.createOrReplaceTempView(\"timehour\")\n",
    "timeAnalysis=spark.sql(\"SELECT Case when hour>=0 and hour <4 then 'midnight' when hour>=4 and hour <7 then 'earlymorning' \"\n",
    "            \" when hour>=7 and hour <12 then 'Day-time' when hour>=12 and hour <15 then 'afternoon' when hour>=15 and \"\n",
    "            \" hour <18 then 'evening' when hour>=18 and hour <=23 then 'Night-time' end as time from timehour\")\n",
    "\n",
    "timeAnalysis.createOrReplaceTempView(\"timeAnalysis\")\n",
    "query10 = spark.sql(\"SELECT time as hour,Count(*) as tweets_count from timeAnalysis where time is not null group by time order by count(*) desc\")"
   ]
  },
  {
   "cell_type": "code",
   "execution_count": 20,
   "metadata": {},
   "outputs": [],
   "source": [
    "pd_query10 = query10.toPandas()"
   ]
  },
  {
   "cell_type": "code",
   "execution_count": 87,
   "metadata": {},
   "outputs": [
    {
     "data": {
      "text/html": [
       "<div>\n",
       "<style scoped>\n",
       "    .dataframe tbody tr th:only-of-type {\n",
       "        vertical-align: middle;\n",
       "    }\n",
       "\n",
       "    .dataframe tbody tr th {\n",
       "        vertical-align: top;\n",
       "    }\n",
       "\n",
       "    .dataframe thead th {\n",
       "        text-align: right;\n",
       "    }\n",
       "</style>\n",
       "<table border=\"1\" class=\"dataframe\">\n",
       "  <thead>\n",
       "    <tr style=\"text-align: right;\">\n",
       "      <th></th>\n",
       "      <th>hour</th>\n",
       "      <th>tweets_count</th>\n",
       "    </tr>\n",
       "  </thead>\n",
       "  <tbody>\n",
       "    <tr>\n",
       "      <th>0</th>\n",
       "      <td>evening</td>\n",
       "      <td>244177</td>\n",
       "    </tr>\n",
       "    <tr>\n",
       "      <th>1</th>\n",
       "      <td>Night-time</td>\n",
       "      <td>234567</td>\n",
       "    </tr>\n",
       "    <tr>\n",
       "      <th>2</th>\n",
       "      <td>midnight</td>\n",
       "      <td>51924</td>\n",
       "    </tr>\n",
       "    <tr>\n",
       "      <th>3</th>\n",
       "      <td>afternoon</td>\n",
       "      <td>18463</td>\n",
       "    </tr>\n",
       "  </tbody>\n",
       "</table>\n",
       "</div>"
      ],
      "text/plain": [
       "         hour  tweets_count\n",
       "0     evening        244177\n",
       "1  Night-time        234567\n",
       "2    midnight         51924\n",
       "3   afternoon         18463"
      ]
     },
     "execution_count": 87,
     "metadata": {},
     "output_type": "execute_result"
    }
   ],
   "source": [
    "pd_query10"
   ]
  },
  {
   "cell_type": "code",
   "execution_count": 21,
   "metadata": {},
   "outputs": [
    {
     "data": {
      "text/plain": [
       "Text(0.5, 1, 'Tweet count on hourly bases')"
      ]
     },
     "execution_count": 21,
     "metadata": {},
     "output_type": "execute_result"
    },
    {
     "data": {
      "image/png": "[encoded data removed]",
      "text/plain": [
       "<Figure size 360x360 with 1 Axes>"
      ]
     },
     "metadata": {
      "needs_background": "light"
     },
     "output_type": "display_data"
    }
   ],
   "source": [
    "# sns.lineplot( x =\"country\",y=\"Count\", data=pd)\n",
    "# sns.relplot(x =\"hour\",y=\"tweets_count\", data=pd_query10)\n",
    "# pd_query10\n",
    "sns.catplot(x =\"hour\",y=\"tweets_count\", kind=\"violin\",style = \"smoker\" ,split=True,data=pd_query10)\n",
    "plt.title(\"Tweet count on hourly bases\")"
   ]
  }
 ],
 "metadata": {
  "kernelspec": {
   "display_name": "Python 3",
   "language": "python",
   "name": "python3"
  },
  "language_info": {
   "codemirror_mode": {
    "name": "ipython",
    "version": 3
   },
   "file_extension": ".py",
   "mimetype": "text/x-python",
   "name": "python",
   "nbconvert_exporter": "python",
   "pygments_lexer": "ipython3",
   "version": "3.7.6"
  }
 },
 "nbformat": 4,
 "nbformat_minor": 4
}
